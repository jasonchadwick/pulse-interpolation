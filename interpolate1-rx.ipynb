{
 "cells": [
  {
   "attachments": {},
   "cell_type": "markdown",
   "metadata": {},
   "source": [
    "# 1-parameter interpolation for single-qubit $R_X$ gate"
   ]
  },
  {
   "cell_type": "code",
   "execution_count": 1,
   "metadata": {},
   "outputs": [],
   "source": [
    "import random\n",
    "from scipy.spatial import Delaunay\n",
    "from qctrl_optimize import hamiltonians\n",
    "from qctrl_optimize import optimize as opt\n",
    "from qctrl_optimize import gates\n",
    "from qctrl_optimize import simulate as sim\n",
    "from qctrl_optimize import interpolate as interp\n",
    "from qctrl_optimize import plot as plotter\n",
    "from qctrl import Qctrl\n",
    "import numpy as np\n",
    "import scipy\n",
    "import matplotlib.pyplot as plt\n",
    "import pickle\n",
    "from itertools import product\n",
    "qctrl = Qctrl()"
   ]
  },
  {
   "cell_type": "code",
   "execution_count": 2,
   "metadata": {},
   "outputs": [],
   "source": [
    "# Set up parameters for the Interpolater\n",
    "\n",
    "num_pwc_segments = 20\n",
    "segment_count = 500\n",
    "duration = np.pi\n",
    "sample_times = np.linspace(0, duration, segment_count)\n",
    "amplitude = 1\n",
    "tik0 = 1e-2\n",
    "tik0 = tik0 / (amplitude**2 * num_pwc_segments)\n",
    "seed = 0 # reproducability\n",
    "\n",
    "# get sets of reference points and testing points\n",
    "granularity_train = 1/6\n",
    "granularity_test = 1/12\n",
    "npts_train = int(1+1/granularity_train)\n",
    "npts_test = int(1+1/granularity_test)\n",
    "train_points = np.array(list(np.linspace(0,2*np.pi,npts_train)))[:,None]\n",
    "test_points = np.array(list(np.linspace(0,2*np.pi,npts_test)))[:,None]\n",
    "\n",
    "# function mapping pulse signals to Hamiltonian\n",
    "def sigs_to_ham(graph, signals):\n",
    "    hamiltonian, _,_,= hamiltonians.simple_hamiltonian_from_signals_1q(graph, signals)\n",
    "    return hamiltonian\n",
    "\n",
    "# function mapping (graph, target, signals) => graph.infidelity\n",
    "infid_func = opt.get_ham_infid_func(sigs_to_ham)\n",
    "\n",
    "var_shape = (2, num_pwc_segments)\n",
    "# function mapping pulse optimizable variables to signal objects\n",
    "vals_to_sigs = opt.get_vals_to_sigs_pwc(duration, var_shape, amplitude)"
   ]
  },
  {
   "cell_type": "code",
   "execution_count": 3,
   "metadata": {},
   "outputs": [
    {
     "name": "stdout",
     "output_type": "stream",
     "text": [
      "[0.]\n"
     ]
    },
    {
     "data": {
      "application/vnd.jupyter.widget-view+json": {
       "model_id": "c02a99de69d1499d977a1851cf23ab16",
       "version_major": 2,
       "version_minor": 0
      },
      "text/plain": [
       "  0%|          | 0/100 [00:00<?, ?it/s]"
      ]
     },
     "metadata": {},
     "output_type": "display_data"
    },
    {
     "name": "stdout",
     "output_type": "stream",
     "text": [
      "Your task calculate_optimization (action_id=\"1679273\") has completed.\n",
      "Iterations:\t40\n",
      "Optimized cost:\t1.539e-08\n",
      "Infidelity:\t1.185e-10\n",
      "Tikhonov:\t1.527e-08\n",
      "1 [[ 1.22718388e-03 -4.14645869e-04 -1.46448270e-03  4.71992685e-04\n",
      "   2.87094003e-03 -9.17682088e-04 -2.28230264e-03  3.31806413e-04\n",
      "  -1.03026330e-03 -1.28790730e-03  5.06699029e-04  4.01358632e-04\n",
      "   3.63280959e-03 -5.13306566e-04  8.66035044e-04  4.90304818e-05\n",
      "  -1.29596057e-03 -8.45751546e-04 -9.32355453e-04  5.63678917e-04]\n",
      " [ 5.78271216e-04 -1.48194360e-03  7.92447726e-04  2.68745284e-03\n",
      "   2.10516788e-04  2.10397312e-04 -1.26154970e-03 -8.83881851e-04\n",
      "   1.32646154e-03 -6.14383284e-04  5.59691628e-04 -3.88716778e-04\n",
      "   9.39294413e-04 -3.04312625e-04  8.47248505e-04 -1.03293249e-03\n",
      "  -3.36644229e-05  3.70474163e-04 -1.59572473e-03 -8.96571788e-04]]\n",
      "[1.04719755]\n"
     ]
    },
    {
     "data": {
      "application/vnd.jupyter.widget-view+json": {
       "model_id": "b85ccb7ff90643f2805aa3b4df6291c5",
       "version_major": 2,
       "version_minor": 0
      },
      "text/plain": [
       "  0%|          | 0/100 [00:00<?, ?it/s]"
      ]
     },
     "metadata": {},
     "output_type": "display_data"
    },
    {
     "name": "stdout",
     "output_type": "stream",
     "text": [
      "Your task calculate_optimization (action_id=\"1679274\") has completed.\n",
      "Iterations:\t36\n",
      "Optimized cost:\t1.390e-04\n",
      "Infidelity:\t7.539e-08\n",
      "Tikhonov:\t1.389e-04\n",
      "[2.0943951]\n"
     ]
    },
    {
     "data": {
      "application/vnd.jupyter.widget-view+json": {
       "model_id": "d540d144879f4936ba5016a35ab737bc",
       "version_major": 2,
       "version_minor": 0
      },
      "text/plain": [
       "  0%|          | 0/100 [00:00<?, ?it/s]"
      ]
     },
     "metadata": {},
     "output_type": "display_data"
    },
    {
     "name": "stdout",
     "output_type": "stream",
     "text": [
      "Your task calculate_optimization (action_id=\"1679275\") has completed.\n",
      "Iterations:\t42\n",
      "Optimized cost:\t2.221e-03\n",
      "Infidelity:\t1.137e-06\n",
      "Tikhonov:\t2.220e-03\n",
      "[3.14159265]\n"
     ]
    },
    {
     "data": {
      "application/vnd.jupyter.widget-view+json": {
       "model_id": "156ea3dc6fe54d16823d8361c2f14cc0",
       "version_major": 2,
       "version_minor": 0
      },
      "text/plain": [
       "  0%|          | 0/100 [00:00<?, ?it/s]"
      ]
     },
     "metadata": {},
     "output_type": "display_data"
    },
    {
     "name": "stdout",
     "output_type": "stream",
     "text": [
      "Your task calculate_optimization (action_id=\"1679276\") has completed.\n",
      "Iterations:\t31\n",
      "Optimized cost:\t1.249e-03\n",
      "Infidelity:\t6.452e-07\n",
      "Tikhonov:\t1.249e-03\n",
      "[4.1887902]\n"
     ]
    },
    {
     "data": {
      "application/vnd.jupyter.widget-view+json": {
       "model_id": "51580be1354744ed9116e24e5db0a518",
       "version_major": 2,
       "version_minor": 0
      },
      "text/plain": [
       "  0%|          | 0/100 [00:00<?, ?it/s]"
      ]
     },
     "metadata": {},
     "output_type": "display_data"
    },
    {
     "name": "stdout",
     "output_type": "stream",
     "text": [
      "Your task calculate_optimization (action_id=\"1679277\") has completed.\n",
      "Iterations:\t37\n",
      "Optimized cost:\t5.553e-04\n",
      "Infidelity:\t2.839e-07\n",
      "Tikhonov:\t5.550e-04\n",
      "[5.23598776]\n"
     ]
    },
    {
     "data": {
      "application/vnd.jupyter.widget-view+json": {
       "model_id": "ed5aec09f2c34e25addae8a827f755f3",
       "version_major": 2,
       "version_minor": 0
      },
      "text/plain": [
       "  0%|          | 0/100 [00:00<?, ?it/s]"
      ]
     },
     "metadata": {},
     "output_type": "display_data"
    },
    {
     "name": "stdout",
     "output_type": "stream",
     "text": [
      "Your task calculate_optimization (action_id=\"1679278\") has completed.\n",
      "Iterations:\t37\n",
      "Optimized cost:\t1.388e-04\n",
      "Infidelity:\t7.020e-08\n",
      "Tikhonov:\t1.388e-04\n",
      "[6.28318531]\n"
     ]
    },
    {
     "data": {
      "application/vnd.jupyter.widget-view+json": {
       "model_id": "26c1274456434315b8c91fed92afd614",
       "version_major": 2,
       "version_minor": 0
      },
      "text/plain": [
       "  0%|          | 0/100 [00:00<?, ?it/s]"
      ]
     },
     "metadata": {},
     "output_type": "display_data"
    },
    {
     "name": "stdout",
     "output_type": "stream",
     "text": [
      "Your task calculate_optimization (action_id=\"1679279\") has completed.\n",
      "Iterations:\t40\n",
      "Optimized cost:\t1.539e-08\n",
      "Infidelity:\t1.185e-10\n",
      "Tikhonov:\t1.527e-08\n",
      "(2, 20)\n",
      "(2, 20)\n",
      "(2, 20)\n",
      "(2, 20)\n",
      "(2, 20)\n",
      "(2, 20)\n",
      "(2, 20)\n",
      "(2, 20)\n",
      "(2, 20)\n",
      "(2, 20)\n",
      "(2, 20)\n",
      "(2, 20)\n",
      "(2, 20)\n"
     ]
    },
    {
     "data": {
      "application/vnd.jupyter.widget-view+json": {
       "model_id": "3c551fbc72834342b5e4c10c60a68a6b",
       "version_major": 2,
       "version_minor": 0
      },
      "text/plain": [
       "  0%|          | 0/100 [00:00<?, ?it/s]"
      ]
     },
     "metadata": {},
     "output_type": "display_data"
    },
    {
     "name": "stdout",
     "output_type": "stream",
     "text": [
      "Your task calculate_graph (action_id=\"1679280\") has completed.\n",
      "infidelity_0: \t1.185e-10\n",
      "infidelity_1: \t6.872e-08\n",
      "infidelity_2: \t7.539e-08\n",
      "infidelity_3: \t1.000e+00\n",
      "infidelity_4: \t1.137e-06\n",
      "infidelity_5: \t9.825e-07\n",
      "infidelity_6: \t6.452e-07\n",
      "infidelity_7: \t4.621e-07\n",
      "infidelity_8: \t2.839e-07\n",
      "infidelity_9: \t1.600e-07\n",
      "infidelity_10: \t7.020e-08\n",
      "infidelity_11: \t2.495e-08\n",
      "infidelity_12: \t1.185e-10\n"
     ]
    }
   ],
   "source": [
    "# This cell will make many print statements - beware!\n",
    "\n",
    "interpolater = interp.Interpolater(qctrl, gates.rx, tik0, interp.neighbor_avg, seed, infid_func, vals_to_sigs)\n",
    "\n",
    "# initial optimization\n",
    "opt_var_results, n_iters = interpolater.train(train_points, first_run=True)\n",
    "infids, simplices, _, _ = interpolater.test_interpolations(train_points, opt_var_results, test_points)"
   ]
  },
  {
   "cell_type": "code",
   "execution_count": 4,
   "metadata": {},
   "outputs": [
    {
     "data": {
      "image/png": "[encoded data removed]",
      "text/plain": [
       "<Figure size 640x480 with 1 Axes>"
      ]
     },
     "metadata": {},
     "output_type": "display_data"
    }
   ],
   "source": [
    "import matplotlib.pyplot as plt\n",
    "plt.plot(test_points[:,0], infids)\n",
    "plt.yscale('log')\n",
    "plt.ylabel('Infidelity')\n",
    "plt.xlabel('Angle (radians)')\n",
    "plt.show()"
   ]
  },
  {
   "attachments": {},
   "cell_type": "markdown",
   "metadata": {},
   "source": [
    "We observe relatively good interpolation accuracy except in between $\\theta = \\pi$ and $\\theta = \\frac 7 6 \\pi$. Intuitively, a single-qubit rotation is like \"walking around\" the Bloch sphere in some direction for some angle. The two pulses that we are interpolating between are trying to walk around the sphere in two different directions (because there are two ways to do an X rotation and end up on the opposite side of the sphere), so they interpolate poorly.\n",
    "\n",
    "The solution to this problem is to break the parameter space into two regions, one for angles in $[0,\\pi]$ and one for angles in $[\\pi, 2\\pi]$. This does not add much computation time but fixes the interpolation problem."
   ]
  }
 ],
 "metadata": {
  "kernelspec": {
   "display_name": "pulse-interpolation-KiHSFUyc",
   "language": "python",
   "name": "python3"
  },
  "language_info": {
   "codemirror_mode": {
    "name": "ipython",
    "version": 3
   },
   "file_extension": ".py",
   "mimetype": "text/x-python",
   "name": "python",
   "nbconvert_exporter": "python",
   "pygments_lexer": "ipython3",
   "version": "3.10.11"
  },
  "orig_nbformat": 4
 },
 "nbformat": 4,
 "nbformat_minor": 2
}
