{
 "cells": [
  {
   "attachments": {},
   "cell_type": "markdown",
   "metadata": {},
   "source": [
    "# 1-parameter interpolation for single-qubit $R_X$ gate"
   ]
  },
  {
   "cell_type": "code",
   "execution_count": 1,
   "metadata": {},
   "outputs": [
    {
     "data": {
      "text/html": [
       "<pre style=\"white-space:pre;overflow-x:auto;line-height:normal;font-family:Menlo,'DejaVu Sans Mono',consolas,'Courier New',monospace\">Q-CTRL package update available.\n",
       "</pre>\n"
      ],
      "text/plain": [
       "Q-CTRL package update available.\n"
      ]
     },
     "metadata": {},
     "output_type": "display_data"
    },
    {
     "data": {
      "text/html": [
       "<pre style=\"white-space:pre;overflow-x:auto;line-height:normal;font-family:Menlo,'DejaVu Sans Mono',consolas,'Courier New',monospace\">Your version is <span style=\"color: #008080; text-decoration-color: #008080; font-weight: bold\">20.0</span><span style=\"color: #008080; text-decoration-color: #008080; font-weight: bold\">.</span><span style=\"color: #008080; text-decoration-color: #008080; font-weight: bold\">2</span>. Latest version is <span style=\"color: #008080; text-decoration-color: #008080; font-weight: bold\">20.1</span><span style=\"color: #008080; text-decoration-color: #008080; font-weight: bold\">.</span><span style=\"color: #008080; text-decoration-color: #008080; font-weight: bold\">0</span>.\n",
       "</pre>\n"
      ],
      "text/plain": [
       "Your version is \u001b[1;36m20.0\u001b[0m\u001b[1;36m.\u001b[0m\u001b[1;36m2\u001b[0m. Latest version is \u001b[1;36m20.1\u001b[0m\u001b[1;36m.\u001b[0m\u001b[1;36m0\u001b[0m.\n"
      ]
     },
     "metadata": {},
     "output_type": "display_data"
    },
    {
     "data": {
      "text/html": [
       "<pre style=\"white-space:pre;overflow-x:auto;line-height:normal;font-family:Menlo,'DejaVu Sans Mono',consolas,'Courier New',monospace\">Visit <a href=\"https://boulder.q-ctrl.com/changelog\">boulder.q-ctrl.com/changelog</a> for the latest product updates.\n",
       "</pre>\n"
      ],
      "text/plain": [
       "Visit \u001b]8;id=109383;https://boulder.q-ctrl.com/changelog\u001b\\boulder.q-ctrl.com/changelog\u001b]8;;\u001b\\ for the latest product updates.\n"
      ]
     },
     "metadata": {},
     "output_type": "display_data"
    }
   ],
   "source": [
    "import random\n",
    "from scipy.spatial import Delaunay\n",
    "from qctrl_optimize import hamiltonians\n",
    "from qctrl_optimize import optimize as opt\n",
    "from qctrl_optimize import gates\n",
    "from qctrl_optimize import simulate as sim\n",
    "from qctrl_optimize import interpolate as interp\n",
    "from qctrl_optimize import plot as plotter\n",
    "from qctrl import Qctrl\n",
    "import numpy as np\n",
    "import scipy\n",
    "import matplotlib.pyplot as plt\n",
    "import pickle\n",
    "from itertools import product\n",
    "qctrl = Qctrl()"
   ]
  },
  {
   "cell_type": "code",
   "execution_count": 2,
   "metadata": {},
   "outputs": [],
   "source": [
    "# Set up parameters for the Interpolater\n",
    "\n",
    "num_pwc_segments = 20\n",
    "segment_count = 500\n",
    "duration = 60\n",
    "sample_times = np.linspace(0, duration, segment_count)\n",
    "amplitude = 40e-3\n",
    "tik0 = 1e-2\n",
    "tik0 = tik0 / (amplitude**2 * num_pwc_segments)\n",
    "seed = 0 # reproducability\n",
    "\n",
    "# get sets of reference points and testing points\n",
    "granularity_train = 1/6\n",
    "granularity_test = 1/12\n",
    "npts_train = int(1+1/granularity_train)\n",
    "npts_test = int(1+1/granularity_test)\n",
    "train_points = np.array(list(np.linspace(0,2*np.pi,npts_train)))[:,None]\n",
    "test_points = np.array(list(np.linspace(0,2*np.pi,npts_test)))[:,None]\n",
    "\n",
    "# function mapping pulse signals to Hamiltonian\n",
    "def sigs_to_ham(graph, signals):\n",
    "    hamiltonian, _,_,= hamiltonians.single_transmon_hamiltonian_from_signals(graph, sample_times, vars=signals)\n",
    "    return hamiltonian\n",
    "\n",
    "# function mapping (graph, target, signals) => graph.infidelity\n",
    "infid_func = opt.get_ham_infid_func(sigs_to_ham)\n",
    "\n",
    "var_shape = (hamiltonians.TRANSMON_QUBIT_N_SIG, num_pwc_segments)\n",
    "# function mapping pulse optimizable variables to signal objects\n",
    "vals_to_sigs = opt.get_vals_to_sigs_pwc(duration, var_shape, amplitude)"
   ]
  },
  {
   "cell_type": "code",
   "execution_count": 3,
   "metadata": {},
   "outputs": [
    {
     "name": "stdout",
     "output_type": "stream",
     "text": [
      "[0.]\n"
     ]
    },
    {
     "data": {
      "application/vnd.jupyter.widget-view+json": {
       "model_id": "89a95b418e154a1c92db8be647202a82",
       "version_major": 2,
       "version_minor": 0
      },
      "text/plain": [
       "  0%|          | 0/100 [00:00<?, ?it/s]"
      ]
     },
     "metadata": {},
     "output_type": "display_data"
    },
    {
     "name": "stdout",
     "output_type": "stream",
     "text": [
      "Your task calculate_optimization (action_id=\"1580348\") has completed.\n",
      "Iterations:\t21\n",
      "Optimized cost:\t3.854e-09\n",
      "Infidelity:\t2.093e-12\n",
      "Tikhonov:\t3.852e-09\n",
      "[1.04719755]\n"
     ]
    },
    {
     "data": {
      "application/vnd.jupyter.widget-view+json": {
       "model_id": "6e80c801cb264c59a765bcc5c00fd0e5",
       "version_major": 2,
       "version_minor": 0
      },
      "text/plain": [
       "  0%|          | 0/100 [00:00<?, ?it/s]"
      ]
     },
     "metadata": {},
     "output_type": "display_data"
    },
    {
     "name": "stdout",
     "output_type": "stream",
     "text": [
      "Your task calculate_optimization (action_id=\"1580349\") has completed.\n",
      "Iterations:\t23\n",
      "Optimized cost:\t6.215e-04\n",
      "Infidelity:\t1.436e-06\n",
      "Tikhonov:\t6.201e-04\n",
      "[2.0943951]\n"
     ]
    },
    {
     "data": {
      "application/vnd.jupyter.widget-view+json": {
       "model_id": "def83ea3c227432085260538819769a5",
       "version_major": 2,
       "version_minor": 0
      },
      "text/plain": [
       "  0%|          | 0/100 [00:00<?, ?it/s]"
      ]
     },
     "metadata": {},
     "output_type": "display_data"
    },
    {
     "name": "stdout",
     "output_type": "stream",
     "text": [
      "Your task calculate_optimization (action_id=\"1580350\") has completed.\n",
      "Iterations:\t28\n",
      "Optimized cost:\t2.486e-03\n",
      "Infidelity:\t5.644e-06\n",
      "Tikhonov:\t2.481e-03\n",
      "[3.14159265]\n"
     ]
    },
    {
     "data": {
      "application/vnd.jupyter.widget-view+json": {
       "model_id": "025b3b403e0e43a28c3cb8a4b8c0af7e",
       "version_major": 2,
       "version_minor": 0
      },
      "text/plain": [
       "  0%|          | 0/100 [00:00<?, ?it/s]"
      ]
     },
     "metadata": {},
     "output_type": "display_data"
    },
    {
     "name": "stdout",
     "output_type": "stream",
     "text": [
      "Your task calculate_optimization (action_id=\"1580351\") has completed.\n",
      "Iterations:\t44\n",
      "Optimized cost:\t6.038e-03\n",
      "Infidelity:\t3.976e-05\n",
      "Tikhonov:\t5.999e-03\n",
      "[4.1887902]\n"
     ]
    },
    {
     "data": {
      "application/vnd.jupyter.widget-view+json": {
       "model_id": "9dbf1faedf8b4adca761224a8819b44b",
       "version_major": 2,
       "version_minor": 0
      },
      "text/plain": [
       "  0%|          | 0/100 [00:00<?, ?it/s]"
      ]
     },
     "metadata": {},
     "output_type": "display_data"
    },
    {
     "name": "stdout",
     "output_type": "stream",
     "text": [
      "Your task calculate_optimization (action_id=\"1580352\") has completed.\n",
      "Iterations:\t32\n",
      "Optimized cost:\t2.486e-03\n",
      "Infidelity:\t5.674e-06\n",
      "Tikhonov:\t2.481e-03\n",
      "[5.23598776]\n"
     ]
    },
    {
     "data": {
      "application/vnd.jupyter.widget-view+json": {
       "model_id": "b759bbdb69c6434da2fac7353de77b18",
       "version_major": 2,
       "version_minor": 0
      },
      "text/plain": [
       "  0%|          | 0/100 [00:00<?, ?it/s]"
      ]
     },
     "metadata": {},
     "output_type": "display_data"
    },
    {
     "name": "stdout",
     "output_type": "stream",
     "text": [
      "Your task calculate_optimization (action_id=\"1580353\") has completed.\n",
      "Iterations:\t31\n",
      "Optimized cost:\t6.215e-04\n",
      "Infidelity:\t1.436e-06\n",
      "Tikhonov:\t6.201e-04\n",
      "[6.28318531]\n"
     ]
    },
    {
     "data": {
      "application/vnd.jupyter.widget-view+json": {
       "model_id": "e2007097552b44c6b7c1e2f861624a88",
       "version_major": 2,
       "version_minor": 0
      },
      "text/plain": [
       "  0%|          | 0/100 [00:00<?, ?it/s]"
      ]
     },
     "metadata": {},
     "output_type": "display_data"
    },
    {
     "name": "stdout",
     "output_type": "stream",
     "text": [
      "Your task calculate_optimization (action_id=\"1580354\") has completed.\n",
      "Iterations:\t21\n",
      "Optimized cost:\t3.854e-09\n",
      "Infidelity:\t2.097e-12\n",
      "Tikhonov:\t3.852e-09\n",
      "(2, 20)\n",
      "(2, 20)\n",
      "(2, 20)\n",
      "(2, 20)\n",
      "(2, 20)\n",
      "(2, 20)\n",
      "(2, 20)\n",
      "(2, 20)\n",
      "(2, 20)\n",
      "(2, 20)\n",
      "(2, 20)\n",
      "(2, 20)\n",
      "(2, 20)\n"
     ]
    },
    {
     "data": {
      "application/vnd.jupyter.widget-view+json": {
       "model_id": "f5efaf35b6444d3aa098c5afc9c44ea2",
       "version_major": 2,
       "version_minor": 0
      },
      "text/plain": [
       "  0%|          | 0/100 [00:00<?, ?it/s]"
      ]
     },
     "metadata": {},
     "output_type": "display_data"
    },
    {
     "name": "stdout",
     "output_type": "stream",
     "text": [
      "Your task calculate_graph (action_id=\"1580355\") has completed.\n",
      "infidelity_0: \t2.093e-12\n",
      "infidelity_1: \t3.593e-07\n",
      "infidelity_2: \t1.436e-06\n",
      "infidelity_3: \t3.221e-06\n",
      "infidelity_4: \t5.644e-06\n",
      "infidelity_5: \t1.880e-05\n",
      "infidelity_6: \t3.976e-05\n",
      "infidelity_7: \t1.000e+00\n",
      "infidelity_8: \t5.674e-06\n",
      "infidelity_9: \t3.238e-06\n",
      "infidelity_10: \t1.436e-06\n",
      "infidelity_11: \t3.441e-07\n",
      "infidelity_12: \t2.097e-12\n"
     ]
    }
   ],
   "source": [
    "# This cell will make many print statements - beware!\n",
    "\n",
    "interpolater = interp.Interpolater(qctrl, gates.rx, tik0, interp.neighbor_avg, seed, infid_func, vals_to_sigs)\n",
    "\n",
    "# initial optimization\n",
    "opt_var_results, n_iters = interpolater.train(train_points, first_run=True)\n",
    "infids, simplices = interpolater.test_interpolations(train_points, opt_var_results, test_points)"
   ]
  },
  {
   "cell_type": "code",
   "execution_count": 4,
   "metadata": {},
   "outputs": [
    {
     "data": {
      "image/png": "[encoded data removed]",
      "text/plain": [
       "<Figure size 640x480 with 1 Axes>"
      ]
     },
     "metadata": {},
     "output_type": "display_data"
    }
   ],
   "source": [
    "import matplotlib.pyplot as plt\n",
    "plt.plot(test_points[:,0], infids)\n",
    "plt.yscale('log')\n",
    "plt.ylabel('Infidelity')\n",
    "plt.xlabel('Angle (radians)')\n",
    "plt.show()"
   ]
  },
  {
   "attachments": {},
   "cell_type": "markdown",
   "metadata": {},
   "source": [
    "We observe relatively good interpolation accuracy except in between $\\theta = \\pi$ and $\\theta = \\frac 7 6 \\pi$. Intuitively, a single-qubit rotation is like \"walking around\" the Bloch sphere in some direction for some angle. The two pulses that we are interpolating between are trying to walk around the sphere in two different directions (because there are two ways to do an X rotation and end up on the opposite side of the sphere), so they interpolate poorly.\n",
    "\n",
    "The solution to this problem is to break the parameter space into two regions, one for angles in $[0,\\pi]$ and one for angles in $[\\pi, 2\\pi]$. This does not add much computation time but fixes the interpolation problem."
   ]
  }
 ],
 "metadata": {
  "kernelspec": {
   "display_name": "qc",
   "language": "python",
   "name": "qc"
  },
  "language_info": {
   "codemirror_mode": {
    "name": "ipython",
    "version": 3
   },
   "file_extension": ".py",
   "mimetype": "text/x-python",
   "name": "python",
   "nbconvert_exporter": "python",
   "pygments_lexer": "ipython3",
   "version": "3.10.6"
  },
  "orig_nbformat": 4,
  "vscode": {
   "interpreter": {
    "hash": "a6d6226b3e39e97d26ff748db4ead80c78db864988d139108bba2fe5c048c5c5"
   }
  }
 },
 "nbformat": 4,
 "nbformat_minor": 2
}
