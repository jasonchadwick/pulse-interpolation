{
 "cells": [
  {
   "attachments": {},
   "cell_type": "markdown",
   "metadata": {},
   "source": [
    "# 2-parameter interpolation for single-qubit $R(\\theta_X, \\theta_Y)$ gates"
   ]
  },
  {
   "cell_type": "code",
   "execution_count": 1,
   "metadata": {},
   "outputs": [
    {
     "data": {
      "text/html": [
       "<pre style=\"white-space:pre;overflow-x:auto;line-height:normal;font-family:Menlo,'DejaVu Sans Mono',consolas,'Courier New',monospace\">Q-CTRL package update available.\n",
       "</pre>\n"
      ],
      "text/plain": [
       "Q-CTRL package update available.\n"
      ]
     },
     "metadata": {},
     "output_type": "display_data"
    },
    {
     "data": {
      "text/html": [
       "<pre style=\"white-space:pre;overflow-x:auto;line-height:normal;font-family:Menlo,'DejaVu Sans Mono',consolas,'Courier New',monospace\">Your version is <span style=\"color: #008080; text-decoration-color: #008080; font-weight: bold\">20.0</span><span style=\"color: #008080; text-decoration-color: #008080; font-weight: bold\">.</span><span style=\"color: #008080; text-decoration-color: #008080; font-weight: bold\">2</span>. Latest version is <span style=\"color: #008080; text-decoration-color: #008080; font-weight: bold\">20.1</span><span style=\"color: #008080; text-decoration-color: #008080; font-weight: bold\">.</span><span style=\"color: #008080; text-decoration-color: #008080; font-weight: bold\">0</span>.\n",
       "</pre>\n"
      ],
      "text/plain": [
       "Your version is \u001b[1;36m20.0\u001b[0m\u001b[1;36m.\u001b[0m\u001b[1;36m2\u001b[0m. Latest version is \u001b[1;36m20.1\u001b[0m\u001b[1;36m.\u001b[0m\u001b[1;36m0\u001b[0m.\n"
      ]
     },
     "metadata": {},
     "output_type": "display_data"
    },
    {
     "data": {
      "text/html": [
       "<pre style=\"white-space:pre;overflow-x:auto;line-height:normal;font-family:Menlo,'DejaVu Sans Mono',consolas,'Courier New',monospace\">Visit <a href=\"https://boulder.q-ctrl.com/changelog\">boulder.q-ctrl.com/changelog</a> for the latest product updates.\n",
       "</pre>\n"
      ],
      "text/plain": [
       "Visit \u001b]8;id=440729;https://boulder.q-ctrl.com/changelog\u001b\\boulder.q-ctrl.com/changelog\u001b]8;;\u001b\\ for the latest product updates.\n"
      ]
     },
     "metadata": {},
     "output_type": "display_data"
    }
   ],
   "source": [
    "import random\n",
    "from scipy.spatial import Delaunay\n",
    "from qctrl_optimize import hamiltonians\n",
    "from qctrl_optimize import optimize as opt\n",
    "from qctrl_optimize import gates\n",
    "from qctrl_optimize import simulate as sim\n",
    "from qctrl_optimize import interpolate as interp\n",
    "from qctrl_optimize import plot as plotter\n",
    "from qctrl import Qctrl\n",
    "import numpy as np\n",
    "import scipy\n",
    "import matplotlib.pyplot as plt\n",
    "import pickle\n",
    "from itertools import product\n",
    "qctrl = Qctrl()"
   ]
  },
  {
   "cell_type": "code",
   "execution_count": 2,
   "metadata": {},
   "outputs": [],
   "source": [
    "# Set up parameters for the Interpolater\n",
    "\n",
    "num_pwc_segments = 20\n",
    "segment_count = 500\n",
    "duration = 60\n",
    "sample_times = np.linspace(0, duration, segment_count)\n",
    "amplitude = 40e-3\n",
    "tik0 = 1e-2\n",
    "tik0 = tik0 / (amplitude**2 * num_pwc_segments)\n",
    "seed = 0 # reproducability\n",
    "\n",
    "# get sets of reference points and testing points\n",
    "granularity_train = 1/3\n",
    "granularity_test = 1/8\n",
    "npts_train = int(1+1/granularity_train)\n",
    "npts_test = int(1+1/granularity_test)\n",
    "train_points = np.array(list(product(np.linspace(0,1,npts_train), np.linspace(0,1,npts_train))))\n",
    "test_points = np.array(list(product(np.linspace(0,1,npts_test), np.linspace(0,1,npts_test))))\n",
    "\n",
    "# function mapping pulse signals to Hamiltonian\n",
    "def sigs_to_ham(graph, signals):\n",
    "    hamiltonian, _,_,= hamiltonians.single_transmon_hamiltonian_from_signals(graph, sample_times, vars=signals)\n",
    "    return hamiltonian\n",
    "\n",
    "# function mapping (graph, target, signals) => graph.infidelity\n",
    "infid_func = opt.get_ham_infid_func(sigs_to_ham)\n",
    "\n",
    "var_shape = (hamiltonians.TRANSMON_QUBIT_N_SIG, num_pwc_segments)\n",
    "# function mapping pulse optimizable variables to signal objects\n",
    "vals_to_sigs = opt.get_vals_to_sigs_pwc(duration, var_shape, amplitude)\n",
    "\n",
    "def r2(tx, ty):\n",
    "    return gates.r3(tx, ty, 0)"
   ]
  },
  {
   "cell_type": "code",
   "execution_count": 3,
   "metadata": {},
   "outputs": [
    {
     "name": "stdout",
     "output_type": "stream",
     "text": [
      "[0. 0.]\n"
     ]
    },
    {
     "data": {
      "application/vnd.jupyter.widget-view+json": {
       "model_id": "b6401df94b894d72910826e55138d9f5",
       "version_major": 2,
       "version_minor": 0
      },
      "text/plain": [
       "  0%|          | 0/100 [00:00<?, ?it/s]"
      ]
     },
     "metadata": {},
     "output_type": "display_data"
    },
    {
     "name": "stdout",
     "output_type": "stream",
     "text": [
      "Your task calculate_optimization (action_id=\"1580360\") has completed.\n",
      "Iterations:\t21\n",
      "Optimized cost:\t3.854e-09\n",
      "Infidelity:\t2.093e-12\n",
      "Tikhonov:\t3.852e-09\n",
      "[0.         0.33333333]\n"
     ]
    },
    {
     "data": {
      "application/vnd.jupyter.widget-view+json": {
       "model_id": "7c2b0c2fda8045aeb65ff45f2ca32e4f",
       "version_major": 2,
       "version_minor": 0
      },
      "text/plain": [
       "  0%|          | 0/100 [00:00<?, ?it/s]"
      ]
     },
     "metadata": {},
     "output_type": "display_data"
    },
    {
     "name": "stdout",
     "output_type": "stream",
     "text": [
      "Your task calculate_optimization (action_id=\"1580362\") has completed.\n",
      "Iterations:\t26\n",
      "Optimized cost:\t6.216e-04\n",
      "Infidelity:\t1.464e-06\n",
      "Tikhonov:\t6.201e-04\n",
      "[0.         0.66666667]\n"
     ]
    },
    {
     "data": {
      "application/vnd.jupyter.widget-view+json": {
       "model_id": "b551107b28634c46a87665993781a8a2",
       "version_major": 2,
       "version_minor": 0
      },
      "text/plain": [
       "  0%|          | 0/100 [00:00<?, ?it/s]"
      ]
     },
     "metadata": {},
     "output_type": "display_data"
    },
    {
     "name": "stdout",
     "output_type": "stream",
     "text": [
      "Your task calculate_optimization (action_id=\"1580364\") has completed.\n",
      "Iterations:\t27\n",
      "Optimized cost:\t2.486e-03\n",
      "Infidelity:\t5.659e-06\n",
      "Tikhonov:\t2.481e-03\n",
      "[0. 1.]\n"
     ]
    },
    {
     "data": {
      "application/vnd.jupyter.widget-view+json": {
       "model_id": "6150c3dadb9e4a26a017689f043bf085",
       "version_major": 2,
       "version_minor": 0
      },
      "text/plain": [
       "  0%|          | 0/100 [00:00<?, ?it/s]"
      ]
     },
     "metadata": {},
     "output_type": "display_data"
    },
    {
     "name": "stdout",
     "output_type": "stream",
     "text": [
      "Your task calculate_optimization (action_id=\"1580366\") has completed.\n",
      "Iterations:\t32\n",
      "Optimized cost:\t6.038e-03\n",
      "Infidelity:\t3.976e-05\n",
      "Tikhonov:\t5.999e-03\n",
      "[0.33333333 0.        ]\n"
     ]
    },
    {
     "data": {
      "application/vnd.jupyter.widget-view+json": {
       "model_id": "ea06c62455c0441eb1a7e730b5578cd2",
       "version_major": 2,
       "version_minor": 0
      },
      "text/plain": [
       "  0%|          | 0/100 [00:00<?, ?it/s]"
      ]
     },
     "metadata": {},
     "output_type": "display_data"
    },
    {
     "name": "stdout",
     "output_type": "stream",
     "text": [
      "Your task calculate_optimization (action_id=\"1580368\") has completed.\n",
      "Iterations:\t31\n",
      "Optimized cost:\t6.215e-04\n",
      "Infidelity:\t1.436e-06\n",
      "Tikhonov:\t6.201e-04\n",
      "[0.33333333 0.33333333]\n"
     ]
    },
    {
     "data": {
      "application/vnd.jupyter.widget-view+json": {
       "model_id": "f7a7689b0b4842659cb057ffcdb91c62",
       "version_major": 2,
       "version_minor": 0
      },
      "text/plain": [
       "  0%|          | 0/100 [00:00<?, ?it/s]"
      ]
     },
     "metadata": {},
     "output_type": "display_data"
    },
    {
     "name": "stdout",
     "output_type": "stream",
     "text": [
      "Your task calculate_optimization (action_id=\"1580370\") has completed.\n",
      "Iterations:\t34\n",
      "Optimized cost:\t1.243e-03\n",
      "Infidelity:\t2.960e-06\n",
      "Tikhonov:\t1.240e-03\n",
      "[0.33333333 0.66666667]\n"
     ]
    },
    {
     "data": {
      "application/vnd.jupyter.widget-view+json": {
       "model_id": "14a3a550043d4659bb943d637573bd6e",
       "version_major": 2,
       "version_minor": 0
      },
      "text/plain": [
       "  0%|          | 0/100 [00:00<?, ?it/s]"
      ]
     },
     "metadata": {},
     "output_type": "display_data"
    },
    {
     "name": "stdout",
     "output_type": "stream",
     "text": [
      "Your task calculate_optimization (action_id=\"1580372\") has completed.\n",
      "Iterations:\t18\n",
      "Optimized cost:\t5.926e-02\n",
      "Infidelity:\t4.946e-02\n",
      "Tikhonov:\t9.800e-03\n",
      "[0.33333333 1.        ]\n"
     ]
    },
    {
     "data": {
      "application/vnd.jupyter.widget-view+json": {
       "model_id": "7fc9fe0ad5c14ca697349cc9523b7489",
       "version_major": 2,
       "version_minor": 0
      },
      "text/plain": [
       "  0%|          | 0/100 [00:00<?, ?it/s]"
      ]
     },
     "metadata": {},
     "output_type": "display_data"
    },
    {
     "name": "stdout",
     "output_type": "stream",
     "text": [
      "Your task calculate_optimization (action_id=\"1580373\") has completed.\n",
      "Iterations:\t36\n",
      "Optimized cost:\t5.258e-03\n",
      "Infidelity:\t1.931e-05\n",
      "Tikhonov:\t5.238e-03\n",
      "[0.66666667 0.        ]\n"
     ]
    },
    {
     "data": {
      "application/vnd.jupyter.widget-view+json": {
       "model_id": "ec1f32c62288438b855d8ae0f5991380",
       "version_major": 2,
       "version_minor": 0
      },
      "text/plain": [
       "  0%|          | 0/100 [00:00<?, ?it/s]"
      ]
     },
     "metadata": {},
     "output_type": "display_data"
    },
    {
     "name": "stdout",
     "output_type": "stream",
     "text": [
      "Your task calculate_optimization (action_id=\"1580374\") has completed.\n",
      "Iterations:\t32\n",
      "Optimized cost:\t2.486e-03\n",
      "Infidelity:\t5.674e-06\n",
      "Tikhonov:\t2.481e-03\n",
      "[0.66666667 0.33333333]\n"
     ]
    },
    {
     "data": {
      "application/vnd.jupyter.widget-view+json": {
       "model_id": "21cb6a6fdac84c049c1fcd7c821aee8d",
       "version_major": 2,
       "version_minor": 0
      },
      "text/plain": [
       "  0%|          | 0/100 [00:00<?, ?it/s]"
      ]
     },
     "metadata": {},
     "output_type": "display_data"
    },
    {
     "name": "stdout",
     "output_type": "stream",
     "text": [
      "Your task calculate_optimization (action_id=\"1580375\") has completed.\n",
      "Iterations:\t29\n",
      "Optimized cost:\t7.128e-02\n",
      "Infidelity:\t6.128e-02\n",
      "Tikhonov:\t9.992e-03\n",
      "[0.66666667 0.66666667]\n"
     ]
    },
    {
     "data": {
      "application/vnd.jupyter.widget-view+json": {
       "model_id": "a463c1e18f0443cbb3e36dece4647e73",
       "version_major": 2,
       "version_minor": 0
      },
      "text/plain": [
       "  0%|          | 0/100 [00:00<?, ?it/s]"
      ]
     },
     "metadata": {},
     "output_type": "display_data"
    },
    {
     "name": "stdout",
     "output_type": "stream",
     "text": [
      "Your task calculate_optimization (action_id=\"1580376\") has completed.\n",
      "Iterations:\t32\n",
      "Optimized cost:\t7.265e-03\n",
      "Infidelity:\t8.175e-05\n",
      "Tikhonov:\t7.183e-03\n",
      "[0.66666667 1.        ]\n"
     ]
    },
    {
     "data": {
      "application/vnd.jupyter.widget-view+json": {
       "model_id": "58889869f5b54640a6ba82693f226cbd",
       "version_major": 2,
       "version_minor": 0
      },
      "text/plain": [
       "  0%|          | 0/100 [00:00<?, ?it/s]"
      ]
     },
     "metadata": {},
     "output_type": "display_data"
    },
    {
     "name": "stdout",
     "output_type": "stream",
     "text": [
      "Your task calculate_optimization (action_id=\"1580377\") has completed.\n",
      "Iterations:\t51\n",
      "Optimized cost:\t3.593e-03\n",
      "Infidelity:\t9.581e-06\n",
      "Tikhonov:\t3.584e-03\n",
      "[1. 0.]\n"
     ]
    },
    {
     "data": {
      "application/vnd.jupyter.widget-view+json": {
       "model_id": "9259f3c572d84bc3a7cb829a90db3467",
       "version_major": 2,
       "version_minor": 0
      },
      "text/plain": [
       "  0%|          | 0/100 [00:00<?, ?it/s]"
      ]
     },
     "metadata": {},
     "output_type": "display_data"
    },
    {
     "name": "stdout",
     "output_type": "stream",
     "text": [
      "Your task calculate_optimization (action_id=\"1580378\") has completed.\n",
      "Iterations:\t44\n",
      "Optimized cost:\t6.038e-03\n",
      "Infidelity:\t3.976e-05\n",
      "Tikhonov:\t5.999e-03\n",
      "[1.         0.33333333]\n"
     ]
    },
    {
     "data": {
      "application/vnd.jupyter.widget-view+json": {
       "model_id": "7e91f77d85234e4787d3cef04a14f208",
       "version_major": 2,
       "version_minor": 0
      },
      "text/plain": [
       "  0%|          | 0/100 [00:00<?, ?it/s]"
      ]
     },
     "metadata": {},
     "output_type": "display_data"
    },
    {
     "name": "stdout",
     "output_type": "stream",
     "text": [
      "Your task calculate_optimization (action_id=\"1580379\") has completed.\n",
      "Iterations:\t43\n",
      "Optimized cost:\t5.165e-03\n",
      "Infidelity:\t1.859e-05\n",
      "Tikhonov:\t5.146e-03\n",
      "[1.         0.66666667]\n"
     ]
    },
    {
     "data": {
      "application/vnd.jupyter.widget-view+json": {
       "model_id": "475e14aa3f044b13b9d56acdd7273b53",
       "version_major": 2,
       "version_minor": 0
      },
      "text/plain": [
       "  0%|          | 0/100 [00:00<?, ?it/s]"
      ]
     },
     "metadata": {},
     "output_type": "display_data"
    },
    {
     "name": "stdout",
     "output_type": "stream",
     "text": [
      "Your task calculate_optimization (action_id=\"1580380\") has completed.\n",
      "Iterations:\t49\n",
      "Optimized cost:\t3.580e-03\n",
      "Infidelity:\t8.864e-06\n",
      "Tikhonov:\t3.571e-03\n",
      "[1. 1.]\n"
     ]
    },
    {
     "data": {
      "application/vnd.jupyter.widget-view+json": {
       "model_id": "b9aa4fcd0b694a65b6edc908182b08fb",
       "version_major": 2,
       "version_minor": 0
      },
      "text/plain": [
       "  0%|          | 0/100 [00:00<?, ?it/s]"
      ]
     },
     "metadata": {},
     "output_type": "display_data"
    },
    {
     "name": "stdout",
     "output_type": "stream",
     "text": [
      "Your task calculate_optimization (action_id=\"1580381\") has completed.\n",
      "Iterations:\t25\n",
      "Optimized cost:\t1.920e-03\n",
      "Infidelity:\t4.393e-06\n",
      "Tikhonov:\t1.915e-03\n"
     ]
    },
    {
     "data": {
      "application/vnd.jupyter.widget-view+json": {
       "model_id": "6e5831cf1eb6409b9100d1e144e0472b",
       "version_major": 2,
       "version_minor": 0
      },
      "text/plain": [
       "  0%|          | 0/100 [00:00<?, ?it/s]"
      ]
     },
     "metadata": {},
     "output_type": "display_data"
    },
    {
     "name": "stdout",
     "output_type": "stream",
     "text": [
      "Your task calculate_graph (action_id=\"1580383\") has started.\n",
      "Your task calculate_graph (action_id=\"1580383\") has completed.\n",
      "infidelity_0: \t2.093e-12\n",
      "infidelity_1: \t1.987e-07\n",
      "infidelity_2: \t8.086e-07\n",
      "infidelity_3: \t1.838e-06\n",
      "infidelity_4: \t3.251e-06\n",
      "infidelity_5: \t4.993e-06\n",
      "infidelity_6: \t5.006e-01\n",
      "infidelity_7: \t8.551e-01\n",
      "infidelity_8: \t3.976e-05\n",
      "infidelity_9: \t1.934e-07\n",
      "infidelity_10: \t3.901e-07\n",
      "infidelity_11: \t9.573e-07\n",
      "infidelity_12: \t1.933e-06\n",
      "infidelity_13: \t3.411e-06\n",
      "infidelity_14: \t4.366e-01\n",
      "infidelity_15: \t8.213e-01\n",
      "infidelity_16: \t8.732e-01\n",
      "infidelity_17: \t1.893e-03\n",
      "infidelity_18: \t7.870e-07\n",
      "infidelity_19: \t9.906e-07\n",
      "infidelity_20: \t1.621e-06\n",
      "infidelity_21: \t2.611e-06\n",
      "infidelity_22: \t4.473e-01\n",
      "infidelity_23: \t9.379e-01\n",
      "infidelity_24: \t6.279e-01\n",
      "infidelity_25: \t5.417e-01\n",
      "infidelity_26: \t1.237e-03\n",
      "infidelity_27: \t1.814e-06\n",
      "infidelity_28: \t1.258e-01\n",
      "infidelity_29: \t1.262e-01\n",
      "infidelity_30: \t4.128e-01\n",
      "infidelity_31: \t9.591e-01\n",
      "infidelity_32: \t7.570e-02\n",
      "infidelity_33: \t2.809e-02\n",
      "infidelity_34: \t9.233e-03\n",
      "infidelity_35: \t3.247e-04\n",
      "infidelity_36: \t3.238e-06\n",
      "infidelity_37: \t7.773e-01\n",
      "infidelity_38: \t9.852e-01\n",
      "infidelity_39: \t9.632e-01\n",
      "infidelity_40: \t1.224e-01\n",
      "infidelity_41: \t4.098e-02\n",
      "infidelity_42: \t1.400e-02\n",
      "infidelity_43: \t5.833e-03\n",
      "infidelity_44: \t1.293e-03\n",
      "infidelity_45: \t4.998e-06\n",
      "infidelity_46: \t7.700e-01\n",
      "infidelity_47: \t6.870e-01\n",
      "infidelity_48: \t8.681e-02\n",
      "infidelity_49: \t4.617e-02\n",
      "infidelity_50: \t9.190e-03\n",
      "infidelity_51: \t2.184e-03\n",
      "infidelity_52: \t1.662e-03\n",
      "infidelity_53: \t2.912e-04\n",
      "infidelity_54: \t5.006e-01\n",
      "infidelity_55: \t9.451e-01\n",
      "infidelity_56: \t6.654e-02\n",
      "infidelity_57: \t3.746e-02\n",
      "infidelity_58: \t2.238e-02\n",
      "infidelity_59: \t3.459e-03\n",
      "infidelity_60: \t1.303e-03\n",
      "infidelity_61: \t2.322e-03\n",
      "infidelity_62: \t4.376e-04\n",
      "infidelity_63: \t8.551e-01\n",
      "infidelity_64: \t3.440e-02\n",
      "infidelity_65: \t2.361e-02\n",
      "infidelity_66: \t1.227e-02\n",
      "infidelity_67: \t1.134e-02\n",
      "infidelity_68: \t2.611e-03\n",
      "infidelity_69: \t2.371e-03\n",
      "infidelity_70: \t2.344e-03\n",
      "infidelity_71: \t6.390e-04\n",
      "infidelity_72: \t3.976e-05\n",
      "infidelity_73: \t2.117e-03\n",
      "infidelity_74: \t1.378e-03\n",
      "infidelity_75: \t3.273e-04\n",
      "infidelity_76: \t1.319e-03\n",
      "infidelity_77: \t2.946e-04\n",
      "infidelity_78: \t4.322e-04\n",
      "infidelity_79: \t6.327e-04\n",
      "infidelity_80: \t4.393e-06\n",
      "[5 1 4]\n",
      "[5 2 0]\n",
      "[7 3 6 5 1]\n",
      "[2 7]\n",
      "[5 0 9 8]\n",
      "[2 6 1 0 4 9]\n",
      "[ 7  2 10  5  9]\n",
      "[ 2  3  6 11 10]\n",
      "[ 9  4 12]\n",
      "[ 6 10  5 14 13  4  8 12]\n",
      "[14 11  7  6  9]\n",
      "[14 10 15  7]\n",
      "[13  9  8]\n",
      "[ 9 14 12]\n",
      "[11 10 15  9 13]\n",
      "[11 14]\n",
      "[0.66666667 0.        ]\n",
      "[2 8 5]\n"
     ]
    },
    {
     "data": {
      "application/vnd.jupyter.widget-view+json": {
       "model_id": "f498f75e9ee341e0bb69f1db09f65dda",
       "version_major": 2,
       "version_minor": 0
      },
      "text/plain": [
       "  0%|          | 0/100 [00:00<?, ?it/s]"
      ]
     },
     "metadata": {},
     "output_type": "display_data"
    },
    {
     "name": "stdout",
     "output_type": "stream",
     "text": [
      "Your task calculate_optimization (action_id=\"1580389\") has completed.\n",
      "Iterations:\t28\n",
      "Optimized cost:\t8.332e-03\n",
      "Infidelity:\t1.939e-05\n",
      "Tikhonov:\t8.313e-03\n",
      "[0.         0.66666667]\n",
      "[15  3  4]\n"
     ]
    },
    {
     "data": {
      "application/vnd.jupyter.widget-view+json": {
       "model_id": "ca7abba030fb42b5b9d7a911e484c11a",
       "version_major": 2,
       "version_minor": 0
      },
      "text/plain": [
       "  0%|          | 0/100 [00:00<?, ?it/s]"
      ]
     },
     "metadata": {},
     "output_type": "display_data"
    },
    {
     "name": "stdout",
     "output_type": "stream",
     "text": [
      "Your task calculate_optimization (action_id=\"1580391\") has completed.\n",
      "Iterations:\t37\n",
      "Optimized cost:\t8.428e-03\n",
      "Infidelity:\t2.053e-05\n",
      "Tikhonov:\t8.407e-03\n",
      "[0.66666667 0.33333333]\n",
      "[ 8  6  0  5 12 11 10  3]\n"
     ]
    },
    {
     "data": {
      "application/vnd.jupyter.widget-view+json": {
       "model_id": "9b0250c916934a85a3227b8fcb7184cf",
       "version_major": 2,
       "version_minor": 0
      },
      "text/plain": [
       "  0%|          | 0/100 [00:00<?, ?it/s]"
      ]
     },
     "metadata": {},
     "output_type": "display_data"
    },
    {
     "name": "stdout",
     "output_type": "stream",
     "text": [
      "Your task calculate_optimization (action_id=\"1580393\") has completed.\n",
      "Iterations:\t30\n",
      "Optimized cost:\t7.441e-03\n",
      "Infidelity:\t1.930e-05\n",
      "Tikhonov:\t7.422e-03\n",
      "[0.33333333 0.66666667]\n",
      "[ 2 10  6 15  1 14  7  4]\n"
     ]
    },
    {
     "data": {
      "application/vnd.jupyter.widget-view+json": {
       "model_id": "134de29934fd4c38abaa3e04abe9c962",
       "version_major": 2,
       "version_minor": 0
      },
      "text/plain": [
       "  0%|          | 0/100 [00:00<?, ?it/s]"
      ]
     },
     "metadata": {},
     "output_type": "display_data"
    },
    {
     "name": "stdout",
     "output_type": "stream",
     "text": [
      "Your task calculate_optimization (action_id=\"1580395\") has completed.\n",
      "Iterations:\t36\n",
      "Optimized cost:\t5.225e-03\n",
      "Infidelity:\t1.450e-05\n",
      "Tikhonov:\t5.210e-03\n",
      "[0. 1.]\n",
      "[3 1 7]\n"
     ]
    },
    {
     "data": {
      "application/vnd.jupyter.widget-view+json": {
       "model_id": "0eb52909263c453baaae825050d4920e",
       "version_major": 2,
       "version_minor": 0
      },
      "text/plain": [
       "  0%|          | 0/100 [00:00<?, ?it/s]"
      ]
     },
     "metadata": {},
     "output_type": "display_data"
    },
    {
     "name": "stdout",
     "output_type": "stream",
     "text": [
      "Your task calculate_optimization (action_id=\"1580397\") has completed.\n",
      "Iterations:\t25\n",
      "Optimized cost:\t4.956e-03\n",
      "Infidelity:\t4.450e-05\n",
      "Tikhonov:\t4.912e-03\n",
      "[1. 0.]\n",
      "[ 2  0 12]\n"
     ]
    },
    {
     "data": {
      "application/vnd.jupyter.widget-view+json": {
       "model_id": "bc74c3c48ddc434db99db76fb331be51",
       "version_major": 2,
       "version_minor": 0
      },
      "text/plain": [
       "  0%|          | 0/100 [00:00<?, ?it/s]"
      ]
     },
     "metadata": {},
     "output_type": "display_data"
    },
    {
     "name": "stdout",
     "output_type": "stream",
     "text": [
      "Your task calculate_optimization (action_id=\"1580398\") has completed.\n",
      "Iterations:\t33\n",
      "Optimized cost:\t4.892e-03\n",
      "Infidelity:\t4.354e-05\n",
      "Tikhonov:\t4.849e-03\n",
      "[0.33333333 0.33333333]\n",
      "[15  8  2  3]\n"
     ]
    },
    {
     "data": {
      "application/vnd.jupyter.widget-view+json": {
       "model_id": "1549877c57494126964a14242ec0281a",
       "version_major": 2,
       "version_minor": 0
      },
      "text/plain": [
       "  0%|          | 0/100 [00:00<?, ?it/s]"
      ]
     },
     "metadata": {},
     "output_type": "display_data"
    },
    {
     "name": "stdout",
     "output_type": "stream",
     "text": [
      "Your task calculate_optimization (action_id=\"1580399\") has completed.\n",
      "Iterations:\t16\n",
      "Optimized cost:\t5.010e-08\n",
      "Infidelity:\t5.564e-10\n",
      "Tikhonov:\t4.954e-08\n",
      "[0.33333333 1.        ]\n",
      "[ 3 14  4]\n"
     ]
    },
    {
     "data": {
      "application/vnd.jupyter.widget-view+json": {
       "model_id": "78f8c5bfa3854867aad1d96aebf842f0",
       "version_major": 2,
       "version_minor": 0
      },
      "text/plain": [
       "  0%|          | 0/100 [00:00<?, ?it/s]"
      ]
     },
     "metadata": {},
     "output_type": "display_data"
    },
    {
     "name": "stdout",
     "output_type": "stream",
     "text": [
      "Your task calculate_optimization (action_id=\"1580400\") has completed.\n",
      "Iterations:\t21\n",
      "Optimized cost:\t9.164e-03\n",
      "Infidelity:\t3.216e-05\n",
      "Tikhonov:\t9.132e-03\n",
      "[0.33333333 0.        ]\n",
      "[15  9  6  2  0]\n"
     ]
    },
    {
     "data": {
      "application/vnd.jupyter.widget-view+json": {
       "model_id": "0d1167803e2f451e8dd6135b3053d889",
       "version_major": 2,
       "version_minor": 0
      },
      "text/plain": [
       "  0%|          | 0/100 [00:00<?, ?it/s]"
      ]
     },
     "metadata": {},
     "output_type": "display_data"
    },
    {
     "name": "stdout",
     "output_type": "stream",
     "text": [
      "Your task calculate_optimization (action_id=\"1580401\") has completed.\n",
      "Iterations:\t13\n",
      "Optimized cost:\t2.165e-04\n",
      "Infidelity:\t5.554e-07\n",
      "Tikhonov:\t2.160e-04\n",
      "[0. 0.]\n",
      "[ 8 15]\n"
     ]
    },
    {
     "data": {
      "application/vnd.jupyter.widget-view+json": {
       "model_id": "37a60c9aaa3747dd823fbe26897e2d8f",
       "version_major": 2,
       "version_minor": 0
      },
      "text/plain": [
       "  0%|          | 0/100 [00:00<?, ?it/s]"
      ]
     },
     "metadata": {},
     "output_type": "display_data"
    },
    {
     "name": "stdout",
     "output_type": "stream",
     "text": [
      "Your task calculate_optimization (action_id=\"1580402\") has completed.\n",
      "Iterations:\t9\n",
      "Optimized cost:\t3.097e-04\n",
      "Infidelity:\t6.748e-07\n",
      "Tikhonov:\t3.090e-04\n",
      "[0.66666667 0.66666667]\n",
      "[11 14  2  3]\n"
     ]
    },
    {
     "data": {
      "application/vnd.jupyter.widget-view+json": {
       "model_id": "085824bfef594c07893e265d70d04d0f",
       "version_major": 2,
       "version_minor": 0
      },
      "text/plain": [
       "  0%|          | 0/100 [00:00<?, ?it/s]"
      ]
     },
     "metadata": {},
     "output_type": "display_data"
    },
    {
     "name": "stdout",
     "output_type": "stream",
     "text": [
      "Your task calculate_optimization (action_id=\"1580403\") has completed.\n",
      "Iterations:\t20\n",
      "Optimized cost:\t5.791e-03\n",
      "Infidelity:\t2.343e-05\n",
      "Tikhonov:\t5.768e-03\n",
      "[1.         0.66666667]\n",
      "[14 10 13  2 12]\n"
     ]
    },
    {
     "data": {
      "application/vnd.jupyter.widget-view+json": {
       "model_id": "ae5fda005bd946be89438a77042060e7",
       "version_major": 2,
       "version_minor": 0
      },
      "text/plain": [
       "  0%|          | 0/100 [00:00<?, ?it/s]"
      ]
     },
     "metadata": {},
     "output_type": "display_data"
    },
    {
     "name": "stdout",
     "output_type": "stream",
     "text": [
      "Your task calculate_optimization (action_id=\"1580404\") has completed.\n",
      "Iterations:\t21\n",
      "Optimized cost:\t2.649e-03\n",
      "Infidelity:\t6.734e-06\n",
      "Tikhonov:\t2.642e-03\n",
      "[1.         0.33333333]\n",
      "[ 2  5 11]\n"
     ]
    },
    {
     "data": {
      "application/vnd.jupyter.widget-view+json": {
       "model_id": "9d80047a20bd44fcb8f971a09945fb2c",
       "version_major": 2,
       "version_minor": 0
      },
      "text/plain": [
       "  0%|          | 0/100 [00:00<?, ?it/s]"
      ]
     },
     "metadata": {},
     "output_type": "display_data"
    },
    {
     "name": "stdout",
     "output_type": "stream",
     "text": [
      "Your task calculate_optimization (action_id=\"1580405\") has completed.\n",
      "Iterations:\t25\n",
      "Optimized cost:\t8.993e-03\n",
      "Infidelity:\t2.651e-05\n",
      "Tikhonov:\t8.966e-03\n",
      "[1. 1.]\n",
      "[14 11]\n"
     ]
    },
    {
     "data": {
      "application/vnd.jupyter.widget-view+json": {
       "model_id": "e0d57fd4f4884479a9c2b14691fdc787",
       "version_major": 2,
       "version_minor": 0
      },
      "text/plain": [
       "  0%|          | 0/100 [00:00<?, ?it/s]"
      ]
     },
     "metadata": {},
     "output_type": "display_data"
    },
    {
     "name": "stdout",
     "output_type": "stream",
     "text": [
      "Your task calculate_optimization (action_id=\"1580406\") has completed.\n",
      "Iterations:\t16\n",
      "Optimized cost:\t2.137e-04\n",
      "Infidelity:\t4.943e-07\n",
      "Tikhonov:\t2.132e-04\n",
      "[0.66666667 1.        ]\n",
      "[11 10 13  3  7]\n"
     ]
    },
    {
     "data": {
      "application/vnd.jupyter.widget-view+json": {
       "model_id": "ab6953bf2b4548b9b3abc83cee77c52e",
       "version_major": 2,
       "version_minor": 0
      },
      "text/plain": [
       "  0%|          | 0/100 [00:00<?, ?it/s]"
      ]
     },
     "metadata": {},
     "output_type": "display_data"
    },
    {
     "name": "stdout",
     "output_type": "stream",
     "text": [
      "Your task calculate_optimization (action_id=\"1580407\") has completed.\n",
      "Iterations:\t28\n",
      "Optimized cost:\t2.644e-03\n",
      "Infidelity:\t7.033e-06\n",
      "Tikhonov:\t2.637e-03\n",
      "[0.         0.33333333]\n",
      "[8 9 6 3 1]\n"
     ]
    },
    {
     "data": {
      "application/vnd.jupyter.widget-view+json": {
       "model_id": "6fdfd516b909434f801f7aea30fdf7ab",
       "version_major": 2,
       "version_minor": 0
      },
      "text/plain": [
       "  0%|          | 0/100 [00:00<?, ?it/s]"
      ]
     },
     "metadata": {},
     "output_type": "display_data"
    },
    {
     "name": "stdout",
     "output_type": "stream",
     "text": [
      "Your task calculate_optimization (action_id=\"1580408\") has completed.\n",
      "Iterations:\t13\n",
      "Optimized cost:\t2.181e-04\n",
      "Infidelity:\t5.322e-07\n",
      "Tikhonov:\t2.176e-04\n"
     ]
    },
    {
     "data": {
      "application/vnd.jupyter.widget-view+json": {
       "model_id": "0ae10531f24b4e42b5ecacc6d95e3164",
       "version_major": 2,
       "version_minor": 0
      },
      "text/plain": [
       "  0%|          | 0/100 [00:00<?, ?it/s]"
      ]
     },
     "metadata": {},
     "output_type": "display_data"
    },
    {
     "name": "stdout",
     "output_type": "stream",
     "text": [
      "Your task calculate_graph (action_id=\"1580409\") has started.\n",
      "Your task calculate_graph (action_id=\"1580409\") has completed.\n",
      "infidelity_0: \t6.748e-07\n",
      "infidelity_1: \t2.841e-06\n",
      "infidelity_2: \t1.936e-06\n",
      "infidelity_3: \t1.631e-06\n",
      "infidelity_4: \t2.273e-05\n",
      "infidelity_5: \t2.139e-05\n",
      "infidelity_6: \t2.382e-05\n",
      "infidelity_7: \t3.237e-05\n",
      "infidelity_8: \t4.450e-05\n",
      "infidelity_9: \t1.244e-06\n",
      "infidelity_10: \t7.951e-06\n",
      "infidelity_11: \t7.632e-06\n",
      "infidelity_12: \t2.860e-06\n",
      "infidelity_13: \t7.601e-06\n",
      "infidelity_14: \t3.398e-05\n",
      "infidelity_15: \t3.174e-05\n",
      "infidelity_16: \t2.339e-05\n",
      "infidelity_17: \t8.381e-01\n",
      "infidelity_18: \t8.362e-07\n",
      "infidelity_19: \t6.803e-06\n",
      "infidelity_20: \t5.455e-06\n",
      "infidelity_21: \t2.291e-06\n",
      "infidelity_22: \t4.618e-06\n",
      "infidelity_23: \t1.891e-05\n",
      "infidelity_24: \t1.582e-05\n",
      "infidelity_25: \t8.530e-01\n",
      "infidelity_26: \t5.186e-01\n",
      "infidelity_27: \t6.752e-07\n",
      "infidelity_28: \t9.427e-07\n",
      "infidelity_29: \t1.560e-06\n",
      "infidelity_30: \t2.574e-06\n",
      "infidelity_31: \t1.056e-05\n",
      "infidelity_32: \t2.188e-05\n",
      "infidelity_33: \t4.955e-01\n",
      "infidelity_34: \t8.619e-01\n",
      "infidelity_35: \t3.116e-04\n",
      "infidelity_36: \t1.331e-05\n",
      "infidelity_37: \t7.644e-06\n",
      "infidelity_38: \t7.097e-06\n",
      "infidelity_39: \t1.553e-05\n",
      "infidelity_40: \t4.625e-05\n",
      "infidelity_41: \t3.339e-05\n",
      "infidelity_42: \t5.020e-01\n",
      "infidelity_43: \t8.613e-01\n",
      "infidelity_44: \t1.139e-03\n",
      "infidelity_45: \t1.781e-05\n",
      "infidelity_46: \t2.605e-05\n",
      "infidelity_47: \t1.813e-05\n",
      "infidelity_48: \t2.621e-05\n",
      "infidelity_49: \t4.253e-05\n",
      "infidelity_50: \t2.862e-05\n",
      "infidelity_51: \t4.994e-01\n",
      "infidelity_52: \t8.546e-01\n",
      "infidelity_53: \t2.491e-04\n",
      "infidelity_54: \t2.499e-05\n",
      "infidelity_55: \t5.675e-05\n",
      "infidelity_56: \t7.251e-05\n",
      "infidelity_57: \t4.963e-01\n",
      "infidelity_58: \t5.032e-01\n",
      "infidelity_59: \t5.001e-01\n",
      "infidelity_60: \t9.992e-01\n",
      "infidelity_61: \t1.795e-01\n",
      "infidelity_62: \t3.829e-04\n",
      "infidelity_63: \t3.256e-05\n",
      "infidelity_64: \t1.037e-04\n",
      "infidelity_65: \t8.550e-01\n",
      "infidelity_66: \t8.612e-01\n",
      "infidelity_67: \t8.606e-01\n",
      "infidelity_68: \t8.542e-01\n",
      "infidelity_69: \t1.794e-01\n",
      "infidelity_70: \t2.182e-03\n",
      "infidelity_71: \t5.413e-04\n",
      "infidelity_72: \t4.354e-05\n",
      "infidelity_73: \t8.402e-01\n",
      "infidelity_74: \t5.162e-01\n",
      "infidelity_75: \t2.711e-04\n",
      "infidelity_76: \t1.044e-03\n",
      "infidelity_77: \t2.315e-04\n",
      "infidelity_78: \t4.011e-04\n",
      "infidelity_79: \t5.678e-04\n",
      "infidelity_80: \t4.943e-07\n"
     ]
    }
   ],
   "source": [
    "# This cell will make many print statements - beware!\n",
    "# This cell will take around 2-3 minutes to execute in full.\n",
    "\n",
    "interpolater = interp.Interpolater(qctrl, r2, tik0, interp.neighbor_avg, seed, infid_func, vals_to_sigs)\n",
    "\n",
    "# initial optimization\n",
    "opt_var_results, n_iters = interpolater.train(train_points, first_run=True)\n",
    "infids, simplices = interpolater.test_interpolations(train_points, opt_var_results, test_points)\n",
    "\n",
    "# re-optimize points, with highest neighbor-tikhonov penalty first\n",
    "train_points_1, opt_var_results_sorted = interp.sort_points_by_tik(train_points, opt_var_results)\n",
    "opt_var_results1, n_iters1 = interpolater.train(train_points_1, all_opt_var_results=opt_var_results_sorted)\n",
    "infids1, simplices1 = interpolater.test_interpolations(train_points_1, opt_var_results1, test_points)"
   ]
  },
  {
   "cell_type": "code",
   "execution_count": 4,
   "metadata": {},
   "outputs": [
    {
     "data": {
      "image/png": "[encoded data removed]",
      "text/plain": [
       "<Figure size 640x480 with 2 Axes>"
      ]
     },
     "metadata": {},
     "output_type": "display_data"
    },
    {
     "data": {
      "image/png": "[encoded data removed]",
      "text/plain": [
       "<Figure size 640x480 with 1 Axes>"
      ]
     },
     "metadata": {},
     "output_type": "display_data"
    },
    {
     "data": {
      "image/png": "[encoded data removed]",
      "text/plain": [
       "<Figure size 640x480 with 2 Axes>"
      ]
     },
     "metadata": {},
     "output_type": "display_data"
    },
    {
     "data": {
      "image/png": "[encoded data removed]",
      "text/plain": [
       "<Figure size 640x480 with 1 Axes>"
      ]
     },
     "metadata": {},
     "output_type": "display_data"
    }
   ],
   "source": [
    "plotter.plot_interpolation_2d(test_points, np.log10(infids), train_points, simplices)\n",
    "plotter.plot_interpolation_2d(test_points, np.log10(infids1), train_points_1, simplices1)"
   ]
  },
  {
   "attachments": {},
   "cell_type": "markdown",
   "metadata": {},
   "source": [
    "We observe a yellow band indicating poor interpolation quality. As in `interpolate-rx.ipynb`, this occurs roughly around $\\theta=\\pi$, where it is \"easier to go the other way around the sphere\" in a sense. We can solve this problem by dividing the space diagonally into two triangular halves."
   ]
  },
  {
   "cell_type": "code",
   "execution_count": null,
   "metadata": {},
   "outputs": [],
   "source": []
  }
 ],
 "metadata": {
  "kernelspec": {
   "display_name": "qc",
   "language": "python",
   "name": "python3"
  },
  "language_info": {
   "codemirror_mode": {
    "name": "ipython",
    "version": 3
   },
   "file_extension": ".py",
   "mimetype": "text/x-python",
   "name": "python",
   "nbconvert_exporter": "python",
   "pygments_lexer": "ipython3",
   "version": "3.10.6"
  },
  "orig_nbformat": 4,
  "vscode": {
   "interpreter": {
    "hash": "7a40e6e3448e650011a39820b59caa37c97df8f1fe709ca876205734f92edc4b"
   }
  }
 },
 "nbformat": 4,
 "nbformat_minor": 2
}
